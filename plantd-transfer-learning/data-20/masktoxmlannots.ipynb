{
 "cells": [
  {
   "cell_type": "code",
   "execution_count": 2,
   "metadata": {},
   "outputs": [],
   "source": [
    "#we're using the venv from deeplabv3plus and just pip install scikit-image on top of it\n",
    "\n",
    "import os\n",
    "import cv2\n",
    "import numpy as np\n",
    "import xml.etree.ElementTree as ET\n",
    "from skimage.measure import label"
   ]
  },
  {
   "cell_type": "code",
   "execution_count": 3,
   "metadata": {},
   "outputs": [],
   "source": [
    "def create_coco_xml(boxes, file_name, folder, image_shape):\n",
    "    root = ET.Element(\"annotation\")\n",
    "    ET.SubElement(root, \"folder\").text = folder\n",
    "    ET.SubElement(root, \"filename\").text = file_name\n",
    "    ET.SubElement(root, \"path\").text = os.path.join(folder, file_name)\n",
    "    \n",
    "    source = ET.SubElement(root, \"source\")\n",
    "    ET.SubElement(source, \"database\").text = \"Unknown\"\n",
    "\n",
    "    size = ET.SubElement(root, \"size\")\n",
    "    ET.SubElement(size, \"width\").text = str(image_shape[1])\n",
    "    ET.SubElement(size, \"height\").text = str(image_shape[0])\n",
    "    ET.SubElement(size, \"depth\").text = str(image_shape[2] if len(image_shape) > 2 else 1)\n",
    "\n",
    "    ET.SubElement(root, \"segmented\").text = \"0\"\n",
    "\n",
    "    for box in boxes:\n",
    "        obj = ET.SubElement(root, \"object\")\n",
    "        ET.SubElement(obj, \"name\").text = \"disease\"\n",
    "        ET.SubElement(obj, \"pose\").text = \"Unspecified\"\n",
    "        ET.SubElement(obj, \"truncated\").text = \"0\"\n",
    "        ET.SubElement(obj, \"difficult\").text = \"0\"\n",
    "\n",
    "        bndbox = ET.SubElement(obj, \"bndbox\")\n",
    "        ET.SubElement(bndbox, \"xmin\").text = str(box[1])\n",
    "        ET.SubElement(bndbox, \"ymin\").text = str(box[0])\n",
    "        ET.SubElement(bndbox, \"xmax\").text = str(box[3])\n",
    "        ET.SubElement(bndbox, \"ymax\").text = str(box[2])\n",
    "\n",
    "    tree = ET.ElementTree(root)\n",
    "    return tree"
   ]
  },
  {
   "cell_type": "code",
   "execution_count": 4,
   "metadata": {},
   "outputs": [],
   "source": [
    "def extract_bboxes(mask):\n",
    "    labeled_mask = label(mask)\n",
    "    boxes = []\n",
    "    for region in range(1, np.max(labeled_mask) + 1):\n",
    "        where = np.where(labeled_mask == region)\n",
    "        y1, x1, y2, x2 = np.min(where[0]), np.min(where[1]), np.max(where[0]), np.max(where[1])\n",
    "        boxes.append([y1, x1, y2 + 1, x2 + 1])  # Adjust indices as needed\n",
    "    return boxes"
   ]
  },
  {
   "cell_type": "code",
   "execution_count": 5,
   "metadata": {},
   "outputs": [],
   "source": [
    "def process_masks(input_folder, output_folder):\n",
    "    if not os.path.exists(output_folder):\n",
    "        os.makedirs(output_folder)\n",
    "    \n",
    "    for mask_filename in os.listdir(input_folder):\n",
    "        if mask_filename.endswith('.png'):  # Assuming masks are PNG files\n",
    "            mask_path = os.path.join(input_folder, mask_filename)\n",
    "            mask = cv2.imread(mask_path, 0)  # Load as grayscale\n",
    "            boxes = extract_bboxes(mask > 0)  # Threshold to create binary mask if needed\n",
    "            \n",
    "            tree = create_coco_xml(boxes, mask_filename, output_folder, mask.shape)\n",
    "            output_path = os.path.join(output_folder, os.path.splitext(mask_filename)[0] + '.xml')\n",
    "            tree.write(output_path)"
   ]
  },
  {
   "cell_type": "code",
   "execution_count": 6,
   "metadata": {},
   "outputs": [],
   "source": [
    "# Example usage:\n",
    "input_masks_folder = './masks'\n",
    "output_xml_folder = './annots'\n",
    "process_masks(input_masks_folder, output_xml_folder)"
   ]
  }
 ],
 "metadata": {
  "kernelspec": {
   "display_name": ".venv",
   "language": "python",
   "name": "python3"
  },
  "language_info": {
   "codemirror_mode": {
    "name": "ipython",
    "version": 3
   },
   "file_extension": ".py",
   "mimetype": "text/x-python",
   "name": "python",
   "nbconvert_exporter": "python",
   "pygments_lexer": "ipython3",
   "version": "3.11.9"
  }
 },
 "nbformat": 4,
 "nbformat_minor": 2
}
